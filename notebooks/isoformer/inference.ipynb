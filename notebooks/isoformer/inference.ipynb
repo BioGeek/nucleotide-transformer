{
 "cells": [
  {
   "cell_type": "markdown",
   "id": "8e193673",
   "metadata": {},
   "source": [
    "# Inference with Isoformer\n",
    "\n",
    "###This notebook demonstrates how to use the Isoformer model for multi-omics data analysis and gene expression prediction. It shows how to load the model, process DNA, RNA, and protein sequences, and perform inference to predict gene expression levels."
   ]
  },
  {
   "cell_type": "markdown",
   "id": "f3155bac",
   "metadata": {},
   "source": [
    "[![Open All Collab](https://colab.research.google.com/assets/colab-badge.svg)](https://colab.research.google.com/github/instadeepai/nucleotide-transformer/blob/main/notebooks/isoformer/inference.ipynb)"
   ]
  },
  {
   "cell_type": "markdown",
   "id": "76982781",
   "metadata": {},
   "source": [
    "## Installation and Dependencies\n",
    "\n",
    "###First, let's install the required packages for running the Isoformer model."
   ]
  },
  {
   "cell_type": "code",
   "execution_count": null,
   "id": "d748898b-5598-4eb9-9f76-c83decc3d463",
   "metadata": {},
   "outputs": [],
   "source": [
    "! pip install -U huggingface_hub\n",
    "! pip install -U datasets\n",
    "! pip install transformers \n",
    "! pip install torch\n",
    "! pip install enformer_pytorch\n",
    "! pip install tqdm\n",
    "! pip install pyfaidx\n",
    "! pip install pandas\n",
    "! pip install pathlib\n",
    "! pip install urllib\n",
    "! pip install shutil\n",
    "! pip install ssl"
   ]
  },
  {
   "cell_type": "markdown",
   "id": "2509db60",
   "metadata": {},
   "source": [
    "## Import Required Libraries\n",
    "\n",
    "###Import the necessary libraries for data processing and model inference."
   ]
  },
  {
   "cell_type": "code",
   "execution_count": null,
   "id": "955fa25a-1444-4798-80e4-83c7c0b77054",
   "metadata": {},
   "outputs": [],
   "source": [
    "from datasets import load_dataset\n",
    "from transformers import AutoTokenizer, AutoModelForMaskedLM\n",
    "import numpy as np\n",
    "import torch"
   ]
  },
  {
   "cell_type": "markdown",
   "id": "9ffa6769",
   "metadata": {},
   "source": [
    "## Load Dataset\n",
    "\n",
    "###Load the multi-omics transcript expression dataset. We'll use the test split with a sequence length of 196,608 nucleotides."
   ]
  },
  {
   "cell_type": "code",
   "execution_count": null,
   "id": "460edff7-f4d7-4444-907f-19c26c4911d8",
   "metadata": {},
   "outputs": [],
   "source": [
    "# Load the dataset\n",
    "transcript_expression_dataset = load_dataset(\n",
    "    \"InstaDeepAI/multi_omics_transcript_expression\",\n",
    "    task_name=\"transcript_expression_expression\",\n",
    "    sequence_length=196608,\n",
    "    filter_out_sequence_length=196608,\n",
    "    split=\"test\",\n",
    "    streaming=False,\n",
    "    light_version=True, # Set to False to use the full dataset\n",
    ")\n",
    "dataset = iter(transcript_expression_dataset)"
   ]
  },
  {
   "cell_type": "markdown",
   "id": "84aebeea",
   "metadata": {},
   "source": [
    "## Load Model and Tokenizer\n",
    "\n",
    "###Load the pre-trained Isoformer model and its tokenizer from Hugging Face."
   ]
  },
  {
   "cell_type": "code",
   "execution_count": null,
   "id": "6ea96412-aa6d-41c0-8fa8-cb27fd1c3694",
   "metadata": {},
   "outputs": [],
   "source": [
    "# Import the tokenizer and the model\n",
    "tokenizer = AutoTokenizer.from_pretrained(\"InstaDeepAI/isoformer\", trust_remote_code=True)\n",
    "model = AutoModelForMaskedLM.from_pretrained(\"InstaDeepAI/isoformer\",trust_remote_code=True)"
   ]
  },
  {
   "cell_type": "markdown",
   "id": "ebb78edc",
   "metadata": {},
   "source": [
    "## Prepare Input Data\n",
    "\n",
    "###Prepare the input sequences for DNA, RNA, and protein data."
   ]
  },
  {
   "cell_type": "code",
   "execution_count": null,
   "id": "a50ba7cf-1278-4ac4-9e52-53c30654a298",
   "metadata": {},
   "outputs": [],
   "source": [
    "# Sample data\n",
    "sample_data = next(dataset)\n",
    "protein_sequences = [sample_data[\"Protein\"]]\n",
    "rna_sequences = [sample_data[\"RNA\"]]\n",
    "dna_sequences = [sample_data[\"DNA\"]]\n",
    "sequence_length = 196_608\n",
    "rng = np.random.default_rng(seed=0)"
   ]
  },
  {
   "cell_type": "markdown",
   "id": "7c12c787",
   "metadata": {},
   "source": [
    "## Tokenize Input Sequences\n",
    "\n",
    "###Tokenize the input sequences for the model."
   ]
  },
  {
   "cell_type": "code",
   "execution_count": null,
   "id": "59a5de5f-34ac-48b1-87e4-d4b3e51c0d2f",
   "metadata": {},
   "outputs": [],
   "source": [
    "# Tokenize\n",
    "torch_tokens = tokenizer(\n",
    "    dna_input=dna_sequences, rna_input=rna_sequences, protein_input=protein_sequences\n",
    ")\n",
    "dna_torch_tokens = torch.tensor(torch_tokens[0][\"input_ids\"])\n",
    "rna_torch_tokens = torch.tensor(torch_tokens[1][\"input_ids\"])\n",
    "protein_torch_tokens = torch.tensor(torch_tokens[2][\"input_ids\"])"
   ]
  },
  {
   "cell_type": "markdown",
   "id": "63f5fc90",
   "metadata": {},
   "source": [
    "## Run Model Inference\n",
    "\n",
    "###Perform inference using the Isoformer model to predict gene expression levels and obtain DNA embeddings."
   ]
  },
  {
   "cell_type": "code",
   "execution_count": null,
   "id": "03bf18a6-b356-4bb0-9f78-7f649a29a974",
   "metadata": {},
   "outputs": [],
   "source": [
    "# Inference\n",
    "torch_output = model.forward(\n",
    "    tensor_dna=dna_torch_tokens,\n",
    "    tensor_rna=rna_torch_tokens,\n",
    "    tensor_protein=protein_torch_tokens,\n",
    "    attention_mask_rna=rna_torch_tokens != 1,\n",
    "    attention_mask_protein=protein_torch_tokens != 1,\n",
    ")\n",
    "\n",
    "print(f\"Gene expression predictions: {torch_output['gene_expression_predictions']}\")\n",
    "print(f\"Final DNA embedding: {torch_output['final_dna_embeddings']}\")"
   ]
  }
 ],
 "metadata": {
  "kernelspec": {
   "display_name": "Python 3 (ipykernel)",
   "language": "python",
   "name": "python3"
  },
  "language_info": {
   "codemirror_mode": {
    "name": "ipython",
    "version": 3
   },
   "file_extension": ".py",
   "mimetype": "text/x-python",
   "name": "python",
   "nbconvert_exporter": "python",
   "pygments_lexer": "ipython3",
   "version": "3.12.0"
  }
 },
 "nbformat": 4,
 "nbformat_minor": 5
}
