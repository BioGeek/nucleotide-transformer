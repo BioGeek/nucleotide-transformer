{
  "cells": [
    {
      "cell_type": "markdown",
      "id": "a201d7bf-d4d2-456a-a599-08abcfec6d72",
      "metadata": {
        "id": "a201d7bf-d4d2-456a-a599-08abcfec6d72"
      },
      "source": [
        "# Inference with pretrained Agro Nucleotide Transformer model"
      ]
    },
    {
      "cell_type": "markdown",
      "id": "c1f4cd74-0db3-4140-a2a6-e73a2c21c9d6",
      "metadata": {
        "id": "c1f4cd74-0db3-4140-a2a6-e73a2c21c9d6"
      },
      "source": [
        "[![Open All Collab](https://colab.research.google.com/assets/colab-badge.svg)](https://colab.research.google.com/github/instadeepai/nucleotide-transformer/blob/main/notebooks/agro_nucleotide_transformer/inference.ipynb)"
      ]
    },
    {
      "cell_type": "markdown",
      "id": "a3de6889-1ceb-4acd-8765-1805a8b8bd6d",
      "metadata": {
        "id": "a3de6889-1ceb-4acd-8765-1805a8b8bd6d"
      },
      "source": [
        "## Installation and imports"
      ]
    },
    {
      "cell_type": "code",
      "execution_count": 1,
      "id": "28855f7c",
      "metadata": {
        "colab": {
          "base_uri": "https://localhost:8080/"
        },
        "id": "28855f7c",
        "outputId": "4643b726-3882-46ea-9f86-57de42992f73"
      },
      "outputs": [
        {
          "name": "stdout",
          "output_type": "stream",
          "text": [
            "Requirement already satisfied: matplotlib in /usr/local/lib/python3.11/dist-packages (3.10.0)\n",
            "Requirement already satisfied: contourpy>=1.0.1 in /usr/local/lib/python3.11/dist-packages (from matplotlib) (1.3.2)\n",
            "Requirement already satisfied: cycler>=0.10 in /usr/local/lib/python3.11/dist-packages (from matplotlib) (0.12.1)\n",
            "Requirement already satisfied: fonttools>=4.22.0 in /usr/local/lib/python3.11/dist-packages (from matplotlib) (4.58.1)\n",
            "Requirement already satisfied: kiwisolver>=1.3.1 in /usr/local/lib/python3.11/dist-packages (from matplotlib) (1.4.8)\n",
            "Requirement already satisfied: numpy>=1.23 in /usr/local/lib/python3.11/dist-packages (from matplotlib) (2.0.2)\n",
            "Requirement already satisfied: packaging>=20.0 in /usr/local/lib/python3.11/dist-packages (from matplotlib) (25.0)\n",
            "Requirement already satisfied: pillow>=8 in /usr/local/lib/python3.11/dist-packages (from matplotlib) (11.2.1)\n",
            "Requirement already satisfied: pyparsing>=2.3.1 in /usr/local/lib/python3.11/dist-packages (from matplotlib) (3.2.3)\n",
            "Requirement already satisfied: python-dateutil>=2.7 in /usr/local/lib/python3.11/dist-packages (from matplotlib) (2.9.0.post0)\n",
            "Requirement already satisfied: six>=1.5 in /usr/local/lib/python3.11/dist-packages (from python-dateutil>=2.7->matplotlib) (1.17.0)\n"
          ]
        }
      ],
      "source": [
        "!pip install matplotlib"
      ]
    },
    {
      "cell_type": "code",
      "execution_count": null,
      "id": "3549c2f1-bbdb-4fa7-847f-782a36cdca3e",
      "metadata": {
        "colab": {
          "base_uri": "https://localhost:8080/",
          "height": 472
        },
        "id": "3549c2f1-bbdb-4fa7-847f-782a36cdca3e",
        "outputId": "9fe629ef-b4ed-46d9-d14a-18156da8b527"
      },
      "outputs": [],
      "source": [
        "import os\n",
        "\n",
        "try:\n",
        "    import nucleotide_transformer\n",
        "except:\n",
        "    !pip install numpy==1.23.5\n",
        "    !pip install git+https://github.com/instadeepai/nucleotide-transformer@main |tail -n 1\n",
        "    import nucleotide_transformer\n",
        "\n",
        "if \"COLAB_TPU_ADDR\" in os.environ:\n",
        "    from jax.tools import colab_tpu\n",
        "\n",
        "    colab_tpu.setup_tpu()"
      ]
    },
    {
      "cell_type": "code",
      "execution_count": 3,
      "id": "4be65e94-28db-4110-a147-7d8c05b44e97",
      "metadata": {
        "id": "4be65e94-28db-4110-a147-7d8c05b44e97"
      },
      "outputs": [],
      "source": [
        "import haiku as hk\n",
        "import jax\n",
        "import jax.numpy as jnp\n",
        "from nucleotide_transformer.pretrained import get_pretrained_model"
      ]
    },
    {
      "cell_type": "markdown",
      "id": "4e09aaf8-9738-422d-ade7-aaa10122fa67",
      "metadata": {
        "id": "4e09aaf8-9738-422d-ade7-aaa10122fa67"
      },
      "source": [
        "## Download the weights\n",
        "The following cell allows you to download the weights of any of the four nucleotide transformer model. It returns the weights dictionary, the haiku forward function, the tokenizer and the config dictionary.\n",
        "\n",
        "Please also specify:\n",
        "1. the layers at which you'd like to collect embeddings (e.g. (5, 10, 20) to get embeddings at layers 5, 10 and 20)\n",
        "2. the attention maps you´d like to collect (e.g. ((1,4), (7,18)) to get attention maps corresponding to layer 1 head number 4 and layer 7 head number 18). Please refer to the config to see the number of layers and heads in the model.\n",
        "3. the maximum number of tokens in the sequences you'll compute the inference on. You can put values up to value specified in the model's config (counting the class token that will be added automatically at the beginning of the sequence), however we recommend keeping this number as small as possible for optimized memory and inference time."
      ]
    },
    {
      "cell_type": "code",
      "execution_count": 4,
      "id": "2037a048",
      "metadata": {
        "id": "2037a048"
      },
      "outputs": [],
      "source": [
        "# Select a model\n",
        "model_name = '1B_agro_nt'"
      ]
    },
    {
      "cell_type": "code",
      "execution_count": null,
      "id": "84d3d8ab-ee0e-4592-b44f-a722e9372cc0",
      "metadata": {
        "colab": {
          "base_uri": "https://localhost:8080/",
          "height": 260,
          "referenced_widgets": [
            "c707dae79d7b464ba011ad0a56caa6b3",
            "cb1149588a3a45f58ae111937c8e650e",
            "c84c67d2251e4013a20941a2da8ec208",
            "8352e0e7ffbb4665934316585f1d5529",
            "1a14a62c1e9a4e9e922d7f19ae7317e3",
            "7699421ea42f4ae59f8e8b9cd0804106",
            "417faa42a7514886addfc5f338c032cc",
            "da85c95e77a74ed9a9ba095873e26188",
            "6c9f6263c5414beb87a4919d6137ded2",
            "f488b927048940a9a7897aaf761f48e7",
            "5d62fe4b2fac44648077de244cb1d6b6",
            "aecc59d0760343bebf852031cf397684",
            "3660b836093341f4b39544237342131a",
            "fda282163d6f4733a1e58b3c02d77d41",
            "8bad975d5f694f84ae6b4826d901504d",
            "08c58f4d6f5047cebf907bc738cba13d",
            "e9927d934190445fa4b786e91bd1b200",
            "43000dae3d594c979a4a022789065f3c",
            "07e975868da74af98747517fa3aaaaaf",
            "23081087f06b42c59614c9a6bcac1c2b",
            "fcc49441eebb43f08d2a04a85f9cf7f6",
            "398a2d596a314c40a361a916e848a12d"
          ]
        },
        "id": "84d3d8ab-ee0e-4592-b44f-a722e9372cc0",
        "outputId": "ed3a86df-a4d1-4675-ddd3-8ed6abdf9d6d"
      },
      "outputs": [],
      "source": [
        "# Get pretrained model\n",
        "parameters, forward_fn, tokenizer, config = get_pretrained_model(\n",
        "    model_name=model_name,\n",
        "    embeddings_layers_to_save=(12,),\n",
        "    attention_maps_to_save=((1, 4), (7, 16)),\n",
        "    max_positions=32,\n",
        ")\n",
        "forward_fn = hk.transform(forward_fn)"
      ]
    },
    {
      "cell_type": "markdown",
      "id": "54878442-4c4b-4f65-b5fb-0a89aabb5ef5",
      "metadata": {
        "id": "54878442-4c4b-4f65-b5fb-0a89aabb5ef5"
      },
      "source": [
        "## Define your input data and tokenize it\n",
        "You can have a look at the tokens_str variable to see how your sequences have been split into tokens. The sequences will all be padded to the value you filled for max_positions."
      ]
    },
    {
      "cell_type": "code",
      "execution_count": 6,
      "id": "85f3dcba-2e12-4fa4-8e73-8494f97b6513",
      "metadata": {
        "id": "85f3dcba-2e12-4fa4-8e73-8494f97b6513"
      },
      "outputs": [],
      "source": [
        "# Get data and tokenize it\n",
        "sequences = [\n",
        "    \"ATTCCGAAATCGCTGACCGATCGTACGAAA\",\n",
        "    \"ATTTCTCTCTCTCTCTGAGATCGATCGATCGATATCTCTCGAGCTAGC\",\n",
        "]\n",
        "tokens_ids = [b[1] for b in tokenizer.batch_tokenize(sequences)]\n",
        "tokens_str = [b[0] for b in tokenizer.batch_tokenize(sequences)]\n",
        "tokens = jnp.asarray(tokens_ids, dtype=jnp.int32)"
      ]
    },
    {
      "cell_type": "markdown",
      "id": "1fb9228f-ecc5-4ce0-99c2-c3062d6c19b4",
      "metadata": {
        "id": "1fb9228f-ecc5-4ce0-99c2-c3062d6c19b4"
      },
      "source": [
        "## Do the Inference\n",
        "The first time you query this cell will be slower than usual inference because of the computation graph compilation."
      ]
    },
    {
      "cell_type": "code",
      "execution_count": 7,
      "id": "16ef8d85-31d8-4c72-97a9-c3ae4c1bdd40",
      "metadata": {
        "colab": {
          "base_uri": "https://localhost:8080/"
        },
        "id": "16ef8d85-31d8-4c72-97a9-c3ae4c1bdd40",
        "outputId": "4c868faa-25c7-4cb2-ad12-3e7c1ceb49b9"
      },
      "outputs": [
        {
          "name": "stdout",
          "output_type": "stream",
          "text": [
            "CPU times: user 7.56 s, sys: 765 ms, total: 8.32 s\n",
            "Wall time: 6.23 s\n"
          ]
        }
      ],
      "source": [
        "%%time\n",
        "# Initialize random key\n",
        "random_key = jax.random.PRNGKey(0)\n",
        "\n",
        "# Infer\n",
        "outs = forward_fn.apply(parameters, random_key, tokens)"
      ]
    },
    {
      "cell_type": "code",
      "execution_count": 8,
      "id": "fa6b405a-823c-4208-bdb4-313cd21f64fd",
      "metadata": {
        "colab": {
          "base_uri": "https://localhost:8080/"
        },
        "id": "fa6b405a-823c-4208-bdb4-313cd21f64fd",
        "outputId": "59bd7fe6-e19a-45e2-a0c9-e7250ce68fa7"
      },
      "outputs": [
        {
          "name": "stdout",
          "output_type": "stream",
          "text": [
            "dict_keys(['attention_map_layer_1_number_4', 'attention_map_layer_7_number_16', 'embeddings_12', 'logits'])\n"
          ]
        }
      ],
      "source": [
        "print(outs.keys())"
      ]
    },
    {
      "cell_type": "markdown",
      "id": "f820ee47-7d03-47d9-b3f9-9faac32005d6",
      "metadata": {
        "id": "f820ee47-7d03-47d9-b3f9-9faac32005d6"
      },
      "source": [
        "## Retrieve embeddings\n",
        "And use them as you please! Enjoy!"
      ]
    },
    {
      "cell_type": "code",
      "execution_count": 9,
      "id": "756502bc-c1f9-44b7-b7dc-9b4c7806ac28",
      "metadata": {
        "colab": {
          "base_uri": "https://localhost:8080/"
        },
        "id": "756502bc-c1f9-44b7-b7dc-9b4c7806ac28",
        "outputId": "9d4b94df-dfe9-4137-bd21-b9709f31d9f7"
      },
      "outputs": [
        {
          "name": "stdout",
          "output_type": "stream",
          "text": [
            "(2, 32, 1500)\n"
          ]
        }
      ],
      "source": [
        "print(outs[\"embeddings_12\"].shape)"
      ]
    },
    {
      "cell_type": "markdown",
      "id": "4e1cf379-fa94-407f-babf-02d8fcbe9844",
      "metadata": {
        "id": "4e1cf379-fa94-407f-babf-02d8fcbe9844"
      },
      "source": [
        "**Additional Tip**: Don't forget to remove the cls token and padded positions if you want for instance to compute mean embeddings!"
      ]
    },
    {
      "cell_type": "code",
      "execution_count": 10,
      "id": "be2387a8-8edb-43d5-beaf-e129df0b2dd2",
      "metadata": {
        "id": "be2387a8-8edb-43d5-beaf-e129df0b2dd2"
      },
      "outputs": [],
      "source": [
        "embeddings = outs[\"embeddings_12\"][:, 1:, :]  # removing CLS token\n",
        "padding_mask = jnp.expand_dims(tokens[:, 1:] != tokenizer.pad_token_id, axis=-1)\n",
        "masked_embeddings = embeddings * padding_mask  # multiply by 0 pad tokens embeddings\n",
        "sequences_lengths = jnp.sum(padding_mask, axis=1)\n",
        "mean_embeddings = jnp.sum(masked_embeddings, axis=1) / sequences_lengths"
      ]
    },
    {
      "cell_type": "code",
      "execution_count": 11,
      "id": "5d4a187a-265e-4125-b33c-3d2266d073c6",
      "metadata": {
        "colab": {
          "base_uri": "https://localhost:8080/"
        },
        "id": "5d4a187a-265e-4125-b33c-3d2266d073c6",
        "outputId": "a1b5aafa-157b-4c95-ae7d-82413758ce32"
      },
      "outputs": [
        {
          "name": "stdout",
          "output_type": "stream",
          "text": [
            "(2, 1500)\n"
          ]
        }
      ],
      "source": [
        "print(mean_embeddings.shape)"
      ]
    },
    {
      "cell_type": "markdown",
      "id": "d5cbc188-61b6-4bd8-81d9-4a6bc135e37c",
      "metadata": {
        "id": "d5cbc188-61b6-4bd8-81d9-4a6bc135e37c"
      },
      "source": [
        "## Get attention maps\n",
        "Here is an example on how to retrieve attention maps at a specific layer for a given head and how to plot them."
      ]
    },
    {
      "cell_type": "code",
      "execution_count": 12,
      "id": "db064f47-fdb3-44d8-b259-c76041135c0f",
      "metadata": {
        "colab": {
          "base_uri": "https://localhost:8080/"
        },
        "id": "db064f47-fdb3-44d8-b259-c76041135c0f",
        "outputId": "748cad1e-2450-42eb-ff07-e079121bfe74"
      },
      "outputs": [
        {
          "name": "stdout",
          "output_type": "stream",
          "text": [
            "(2, 32, 32)\n"
          ]
        }
      ],
      "source": [
        "print(outs[\"attention_map_layer_1_number_4\"].shape)"
      ]
    },
    {
      "cell_type": "code",
      "execution_count": 13,
      "id": "b756c121-c203-46f7-a1a2-b85fd8f8f46c",
      "metadata": {
        "colab": {
          "base_uri": "https://localhost:8080/",
          "height": 288
        },
        "id": "b756c121-c203-46f7-a1a2-b85fd8f8f46c",
        "outputId": "5dabf908-8eaa-4906-f62f-b16e395c59d6"
      },
      "outputs": [
        {
          "data": {
            "image/png": "[encoded data removed]",
            "text/plain": [
              "<Figure size 640x480 with 4 Axes>"
            ]
          },
          "metadata": {},
          "output_type": "display_data"
        }
      ],
      "source": [
        "import matplotlib.pyplot as plt\n",
        "from mpl_toolkits.axes_grid1 import make_axes_locatable\n",
        "\n",
        "# plot attention maps\n",
        "fig, axes = plt.subplots(nrows=1, ncols=2)\n",
        "\n",
        "seq_length0, seq_length1 = int(sequences_lengths[0][0]), int(sequences_lengths[1][0])\n",
        "\n",
        "# plot for first seq in the batch\n",
        "im0 = axes[0].imshow(\n",
        "    outs[\"attention_map_layer_1_number_4\"][\n",
        "        0, 1 : (seq_length0 + 1), 1 : (seq_length0 + 1)\n",
        "    ]\n",
        ")\n",
        "divider0 = make_axes_locatable(axes[0])\n",
        "cax0 = divider0.append_axes(\"right\", size=\"5%\", pad=0.05)\n",
        "tokens0 = tokens_str[0][1 : (seq_length0 + 1)]\n",
        "axes[0].set_xticks(list(range(seq_length0)), tokens0, rotation=45)\n",
        "axes[0].set_yticks(list(range(seq_length0)), tokens0, rotation=45)\n",
        "fig.colorbar(im0, cax=cax0, orientation=\"vertical\")\n",
        "\n",
        "# plot for second seq in the batch\n",
        "im1 = axes[1].imshow(\n",
        "    outs[\"attention_map_layer_1_number_4\"][\n",
        "        1, 1 : (seq_length1 + 1), 1 : (seq_length1 + 1)\n",
        "    ]\n",
        ")\n",
        "divider1 = make_axes_locatable(axes[1])\n",
        "cax1 = divider1.append_axes(\"right\", size=\"5%\", pad=0.05)\n",
        "tokens1 = tokens_str[1][1 : (seq_length1 + 1)]\n",
        "axes[1].set_xticks(list(range(seq_length1)), tokens1, rotation=45)\n",
        "axes[1].set_yticks(list(range(seq_length1)), tokens1, rotation=45)\n",
        "fig.colorbar(im1, cax=cax1, orientation=\"vertical\")\n",
        "\n",
        "fig.tight_layout()"
      ]
    },
    {
      "cell_type": "markdown",
      "id": "e85fa9df-ae2e-4b87-aa6c-ab0ddce66fe5",
      "metadata": {
        "id": "e85fa9df-ae2e-4b87-aa6c-ab0ddce66fe5"
      },
      "source": [
        "## Get probabilities\n",
        "Finally, let's look at the model probabilities over the vocabulary at each position. These can be used notably to compute reconstruction accuracies and perplexities."
      ]
    },
    {
      "cell_type": "code",
      "execution_count": 14,
      "id": "541310f1-0819-4c50-97f1-5fbb8afddd93",
      "metadata": {
        "colab": {
          "base_uri": "https://localhost:8080/"
        },
        "id": "541310f1-0819-4c50-97f1-5fbb8afddd93",
        "outputId": "32180f2b-c34f-4e96-83a7-0fd100d7e0de"
      },
      "outputs": [
        {
          "name": "stdout",
          "output_type": "stream",
          "text": [
            "(5, 4105)\n",
            "(8, 4105)\n"
          ]
        }
      ],
      "source": [
        "logits = outs[\"logits\"]\n",
        "probabilities = []\n",
        "\n",
        "# get probabilities separately for each seq as they have different lengths\n",
        "for seq_id in range(logits.shape[0]):\n",
        "\n",
        "    logits_seq = logits[seq_id]\n",
        "    seq_length = int(sequences_lengths[seq_id][0])\n",
        "    logits_seq = logits_seq[1 : (seq_length + 1)]  # remove CLS token and pads\n",
        "    probas = jax.nn.softmax(\n",
        "        logits_seq, axis=-1\n",
        "    )  # use softmax to transform logits into probabilities\n",
        "\n",
        "    print(probas.shape)\n",
        "    probabilities.append(probas)"
      ]
    },
    {
      "cell_type": "markdown",
      "id": "224f8b51-54c2-47d0-8b00-9c5c4861db48",
      "metadata": {
        "id": "224f8b51-54c2-47d0-8b00-9c5c4861db48"
      },
      "source": [
        "Let's look in particular at a given sequence and position and show the top-k probabilities and corresponding tokens."
      ]
    },
    {
      "cell_type": "code",
      "execution_count": 15,
      "id": "3a7b6723-8a22-490d-9903-dee92898eed7",
      "metadata": {
        "colab": {
          "base_uri": "https://localhost:8080/"
        },
        "id": "3a7b6723-8a22-490d-9903-dee92898eed7",
        "outputId": "c2e9888d-55e9-433e-dda3-292dae97073a"
      },
      "outputs": [
        {
          "name": "stdout",
          "output_type": "stream",
          "text": [
            "token: AAATCG, probability: 33.32%\n",
            "token: AAATCA, probability: 25.44%\n",
            "token: AAATCT, probability: 2.57%\n",
            "token: CACTGA, probability: 2.14%\n",
            "token: AAATCC, probability: 1.49%\n"
          ]
        }
      ],
      "source": [
        "sequence_id = 0\n",
        "position_id = 1\n",
        "\n",
        "probs = probabilities[sequence_id][position_id]\n",
        "sorted_positions = jnp.argsort(-probs)\n",
        "sorted_probs = probs[sorted_positions]\n",
        "\n",
        "top_k = 5\n",
        "for k in range(top_k):\n",
        "    predicted_token = tokenizer.id_to_token(int(sorted_positions[k]))\n",
        "    prob = sorted_probs[k]\n",
        "    print(f\"token: {predicted_token}, probability: {prob * 100:.2f}%\")"
      ]
    },
    {
      "cell_type": "code",
      "execution_count": null,
      "id": "Z2VjacHR7Le-",
      "metadata": {
        "id": "Z2VjacHR7Le-"
      },
      "outputs": [],
      "source": []
    }
  ],
  "metadata": {
    "accelerator": "TPU",
    "colab": {
      "gpuType": "V28",
      "provenance": []
    },
    "kernelspec": {
      "display_name": "Python 3",
      "name": "python3"
    },
    "language_info": {
      "codemirror_mode": {
        "name": "ipython",
        "version": 3
      },
      "file_extension": ".py",
      "mimetype": "text/x-python",
      "name": "python",
      "nbconvert_exporter": "python",
      "pygments_lexer": "ipython3",
      "version": "3.9.19"
    }
  },
  "nbformat": 4,
  "nbformat_minor": 5
}